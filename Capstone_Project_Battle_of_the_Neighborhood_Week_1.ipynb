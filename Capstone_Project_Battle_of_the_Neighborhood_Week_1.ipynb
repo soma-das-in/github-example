{
  "nbformat": 4,
  "nbformat_minor": 0,
  "metadata": {
    "colab": {
      "name": "Capstone Project - Battle of the Neighborhood - Week 1 ",
      "provenance": [],
      "collapsed_sections": [],
      "toc_visible": true
    },
    "kernelspec": {
      "name": "python3",
      "display_name": "Python 3"
    }
  },
  "cells": [
    {
      "cell_type": "markdown",
      "metadata": {
        "id": "0sms_Q5OP1th",
        "colab_type": "text"
      },
      "source": [
        "**1. Introduction**\n",
        "\n",
        "The purpose of the project is to help XYZ Inc in scouting for a suitable location to open a **hotel/restaurant** in **Salt Lake City** so that they can make a conscious call on the investments made on the location of the hotel/ resturant  and aim to make it a profit making venture ."
      ]
    },
    {
      "cell_type": "markdown",
      "metadata": {
        "id": "sV-xEMtPP1XY",
        "colab_type": "text"
      },
      "source": [
        "**The Location**"
      ]
    },
    {
      "cell_type": "markdown",
      "metadata": {
        "id": "UWlG0H9vcD94",
        "colab_type": "text"
      },
      "source": [
        "**Salt Lake City** is a well-planned satellite township in Kolkata located on the eastern part of India. The area is divided into multiple sectors, which are further sub-divided into various blocks. Dynamic and with a constantly evolving landscape with large green spaces and water bodies, Salt Lake is a vibrant part of the city comprising of  both residential and commercial areas and is also the main IT hub of the city. \n",
        "\n"
      ]
    },
    {
      "cell_type": "markdown",
      "metadata": {
        "id": "2B9sVTTQcZEd",
        "colab_type": "text"
      },
      "source": [
        "**Key Ask**"
      ]
    },
    {
      "cell_type": "markdown",
      "metadata": {
        "id": "U3t3O41FcZmg",
        "colab_type": "text"
      },
      "source": [
        "Considering the substantial opportunity that the township offers in terms of the  hospitality industry, the customer would like to have a study performed based on the current compeitive landscape  so that meaningful insights can be derived to help them decide on a viaable location for opening a hotel/resturant"
      ]
    },
    {
      "cell_type": "markdown",
      "metadata": {
        "id": "nxjgrK0ICcS9",
        "colab_type": "text"
      },
      "source": [
        "**2. Data**"
      ]
    },
    {
      "cell_type": "markdown",
      "metadata": {
        "id": "QXh-B1QicY0F",
        "colab_type": "text"
      },
      "source": [
        "**•\tGeoPy** Python package would be used to get the latitude and the longitude coordinates of all the locations \n",
        "\n"
      ]
    },
    {
      "cell_type": "markdown",
      "metadata": {
        "id": "BAML0gBkOvXu",
        "colab_type": "text"
      },
      "source": [
        "\n",
        "**•\tFoursquare API** to get information about:\n",
        "\n",
        "(i)\tThe existing hotels and restaurants in Salt Lake City\n",
        "\n",
        "(ii)\tExplore additional venues and locations with in a specified radius\n"
      ]
    },
    {
      "cell_type": "markdown",
      "metadata": {
        "id": "Dw7mnC8APODx",
        "colab_type": "text"
      },
      "source": [
        "**•**\tAll Data is transformed into **pandas dataframe**"
      ]
    },
    {
      "cell_type": "markdown",
      "metadata": {
        "id": "zMLpVBUwF0mZ",
        "colab_type": "text"
      },
      "source": [
        "**•\tFolium** Python library to visualize the results on a map "
      ]
    }
  ]
}